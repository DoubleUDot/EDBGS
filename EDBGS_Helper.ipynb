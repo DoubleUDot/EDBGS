{
 "cells": [
  {
   "cell_type": "code",
   "execution_count": 158,
   "metadata": {
    "scrolled": false
   },
   "outputs": [
    {
     "name": "stdout",
     "output_type": "stream",
     "text": [
      "Requirement already satisfied: requests in c:\\users\\beast_2\\anaconda2\\envs\\edbgs\\lib\\site-packages (2.22.0)\n",
      "Requirement already satisfied: idna<2.9,>=2.5 in c:\\users\\beast_2\\anaconda2\\envs\\edbgs\\lib\\site-packages (from requests) (2.8)\n",
      "Requirement already satisfied: certifi>=2017.4.17 in c:\\users\\beast_2\\anaconda2\\envs\\edbgs\\lib\\site-packages (from requests) (2019.6.16)\n",
      "Requirement already satisfied: chardet<3.1.0,>=3.0.2 in c:\\users\\beast_2\\anaconda2\\envs\\edbgs\\lib\\site-packages (from requests) (3.0.4)\n",
      "Requirement already satisfied: urllib3!=1.25.0,!=1.25.1,<1.26,>=1.21.1 in c:\\users\\beast_2\\anaconda2\\envs\\edbgs\\lib\\site-packages (from requests) (1.25.3)\n",
      "Note: you may need to restart the kernel to use updated packages.\n"
     ]
    }
   ],
   "source": [
    "pip install requests"
   ]
  },
  {
   "cell_type": "code",
   "execution_count": 159,
   "metadata": {},
   "outputs": [
    {
     "name": "stdout",
     "output_type": "stream",
     "text": [
      "Requirement already satisfied: plotly in c:\\users\\beast_2\\anaconda2\\envs\\edbgs\\lib\\site-packages (4.0.0)\n",
      "Requirement already satisfied: retrying>=1.3.3 in c:\\users\\beast_2\\anaconda2\\envs\\edbgs\\lib\\site-packages (from plotly) (1.3.3)\n",
      "Requirement already satisfied: six in c:\\users\\beast_2\\anaconda2\\envs\\edbgs\\lib\\site-packages (from plotly) (1.12.0)\n",
      "Note: you may need to restart the kernel to use updated packages.\n"
     ]
    }
   ],
   "source": [
    "pip install plotly"
   ]
  },
  {
   "cell_type": "code",
   "execution_count": null,
   "metadata": {
    "scrolled": false
   },
   "outputs": [],
   "source": [
    "import requests\n",
    "#import pandas as pd\n",
    "import plotly\n",
    "import os\n",
    "import plotly.graph_objects as go"
   ]
  },
  {
   "cell_type": "code",
   "execution_count": null,
   "metadata": {
    "scrolled": true
   },
   "outputs": [],
   "source": [
    "faction=\"The Dark Wheel\""
   ]
  },
  {
   "cell_type": "code",
   "execution_count": null,
   "metadata": {
    "scrolled": true
   },
   "outputs": [],
   "source": [
    "class factionLocations:\n",
    "    def __init__(self,referenceFaction):\n",
    "        self.faction=referenceFaction  \n",
    "        self.presentSystems=[]\n",
    "        #self.listFactionLocations()\n",
    "    def listFactionLocations(self):\n",
    "        self.factionLocations=[]\n",
    "        EDDBfactions=\"https://elitebgs.app/api/ebgs/v4/factions\"\n",
    "        URL =os.path.join(EDDBfactions)\n",
    "        PARAMS = {\"name\":self.faction} \n",
    "        r = requests.get(url = URL, params = PARAMS) \n",
    "        data = r.json()\n",
    "        for item in data[\"docs\"]:\n",
    "            for system in item[\"faction_presence\"]:\n",
    "                self.factionLocations.append( system[\"system_name\"])\n",
    "        print(\"The faction %s is located in the following systems:\"%self.faction)\n",
    "        for item in self.factionLocations:\n",
    "            print(item)\n",
    "        #=======================================================================\n",
    "        # for item in data[\"docs\"]:\n",
    "        #     for system in item[\"faction_presence\"]:\n",
    "        #         print system\n",
    "        #=======================================================================\n",
    "        return self.factionLocations#, data[\"docs\"]"
   ]
  },
  {
   "cell_type": "code",
   "execution_count": null,
   "metadata": {
    "scrolled": true
   },
   "outputs": [],
   "source": [
    "x=factionLocations(referenceFaction=faction)"
   ]
  },
  {
   "cell_type": "code",
   "execution_count": null,
   "metadata": {
    "scrolled": true
   },
   "outputs": [],
   "source": [
    "class factionInfluence:\n",
    "    def __init__(self,system,graph=0):\n",
    "        #self.faction=referenceFaction\n",
    "        #self.presentSystems=factionLocations(referenceFaction)\n",
    "        self.influences={}\n",
    "        self.influences[\"factions\"]=[]\n",
    "        self.influences[\"inf\"]=[]\n",
    "        self.system=system\n",
    "        self.graph=graph\n",
    "        #self.getInf()\n",
    "\n",
    "    def getInf(self):\n",
    "        endpoint=\"https://www.edsm.net/api-system-v1/factions\"\n",
    "        PARAMS = {\"systemName\":self.system} \n",
    "        r = requests.get(url=endpoint, params = PARAMS) \n",
    "        data = r.json()\n",
    "        self.influences[\"controlling\"]=data[\"controllingFaction\"][\"name\"]\n",
    "        #print(data[\"controllingFaction\"][\"name\"])\n",
    "        for item in data[\"factions\"]:\n",
    "            self.influences[\"factions\"].append(item[\"name\"])\n",
    "            self.influences[\"inf\"].append(item[\"influence\"]*100)\n",
    "        \n",
    "        if self.graph:\n",
    "            fig = go.Figure(\n",
    "                data=[go.Bar(x=self.influences[\"factions\"],y=self.influences[\"inf\"])],\n",
    "                layout_title_text=\"%s Influences\"%self.system\n",
    "            )\n",
    "            fig.show()\n",
    "        else:\n",
    "            for key,value in self.influences.items():\n",
    "                print(key,value)\n"
   ]
  },
  {
   "cell_type": "code",
   "execution_count": null,
   "metadata": {
    "scrolled": true
   },
   "outputs": [],
   "source": [
    "ptl=factionLocations(referenceFaction=faction)\n",
    "systems=ptl.listFactionLocations()\n",
    "\n",
    "for system in systems:\n",
    "    plotter=factionInfluence(system=system,graph=1)\n",
    "    plotter.getInf()"
   ]
  },
  {
   "cell_type": "code",
   "execution_count": null,
   "metadata": {
    "scrolled": true
   },
   "outputs": [],
   "source": []
  }
 ],
 "metadata": {
  "celltoolbar": "Raw Cell Format",
  "kernelspec": {
   "display_name": "Python 3",
   "language": "python",
   "name": "python3"
  },
  "language_info": {
   "codemirror_mode": {
    "name": "ipython",
    "version": 3
   },
   "file_extension": ".py",
   "mimetype": "text/x-python",
   "name": "python",
   "nbconvert_exporter": "python",
   "pygments_lexer": "ipython3",
   "version": "3.7.3"
  }
 },
 "nbformat": 4,
 "nbformat_minor": 2
}
