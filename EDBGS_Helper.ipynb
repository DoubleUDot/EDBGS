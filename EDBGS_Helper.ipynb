{
 "cells": [
  {
   "cell_type": "code",
   "execution_count": 1,
   "metadata": {
    "scrolled": false,
    "tags": [
     "hide_input"
    ]
   },
   "outputs": [
    {
     "name": "stdout",
     "output_type": "stream",
     "text": [
      "Requirement already satisfied: requests in c:\\users\\beast_2\\anaconda2\\envs\\edbgs\\lib\\site-packages (2.22.0)\n",
      "Requirement already satisfied: chardet<3.1.0,>=3.0.2 in c:\\users\\beast_2\\anaconda2\\envs\\edbgs\\lib\\site-packages (from requests) (3.0.4)\n",
      "Requirement already satisfied: urllib3!=1.25.0,!=1.25.1,<1.26,>=1.21.1 in c:\\users\\beast_2\\anaconda2\\envs\\edbgs\\lib\\site-packages (from requests) (1.25.3)\n",
      "Requirement already satisfied: idna<2.9,>=2.5 in c:\\users\\beast_2\\anaconda2\\envs\\edbgs\\lib\\site-packages (from requests) (2.8)\n",
      "Requirement already satisfied: certifi>=2017.4.17 in c:\\users\\beast_2\\anaconda2\\envs\\edbgs\\lib\\site-packages (from requests) (2019.6.16)\n",
      "Note: you may need to restart the kernel to use updated packages.\n"
     ]
    }
   ],
   "source": [
    "pip install requests"
   ]
  },
  {
   "cell_type": "code",
   "execution_count": 2,
   "metadata": {
    "scrolled": true
   },
   "outputs": [
    {
     "name": "stdout",
     "output_type": "stream",
     "text": [
      "Requirement already satisfied: plotly in c:\\users\\beast_2\\anaconda2\\envs\\edbgs\\lib\\site-packages (4.0.0)\n",
      "Requirement already satisfied: six in c:\\users\\beast_2\\anaconda2\\envs\\edbgs\\lib\\site-packages (from plotly) (1.12.0)\n",
      "Requirement already satisfied: retrying>=1.3.3 in c:\\users\\beast_2\\anaconda2\\envs\\edbgs\\lib\\site-packages (from plotly) (1.3.3)\n",
      "Note: you may need to restart the kernel to use updated packages.\n"
     ]
    }
   ],
   "source": [
    "pip install plotly"
   ]
  },
  {
   "cell_type": "code",
   "execution_count": 3,
   "metadata": {
    "scrolled": true
   },
   "outputs": [
    {
     "name": "stdout",
     "output_type": "stream",
     "text": [
      "Requirement already satisfied: pandas in c:\\users\\beast_2\\anaconda2\\envs\\edbgs\\lib\\site-packages (0.25.0)\n",
      "Requirement already satisfied: python-dateutil>=2.6.1 in c:\\users\\beast_2\\anaconda2\\envs\\edbgs\\lib\\site-packages (from pandas) (2.8.0)\n",
      "Requirement already satisfied: pytz>=2017.2 in c:\\users\\beast_2\\anaconda2\\envs\\edbgs\\lib\\site-packages (from pandas) (2019.1)\n",
      "Requirement already satisfied: numpy>=1.13.3 in c:\\users\\beast_2\\anaconda2\\envs\\edbgs\\lib\\site-packages (from pandas) (1.16.4)\n",
      "Requirement already satisfied: six>=1.5 in c:\\users\\beast_2\\anaconda2\\envs\\edbgs\\lib\\site-packages (from python-dateutil>=2.6.1->pandas) (1.12.0)\n",
      "Note: you may need to restart the kernel to use updated packages.\n"
     ]
    }
   ],
   "source": [
    "pip install pandas"
   ]
  },
  {
   "cell_type": "code",
   "execution_count": 4,
   "metadata": {
    "scrolled": true
   },
   "outputs": [],
   "source": [
    "import requests\n",
    "from ipywidgets import widgets\n",
    "import plotly\n",
    "import pandas as pd\n",
    "import os\n",
    "import plotly.graph_objects as go\n",
    "from IPython.display import display\n",
    "import plotly.express as px\n",
    "from IPython.display import HTML"
   ]
  },
  {
   "cell_type": "code",
   "execution_count": 5,
   "metadata": {
    "scrolled": true
   },
   "outputs": [],
   "source": [
    "import random\n",
    "\n",
    "def hide_toggle(for_next=False):\n",
    "    this_cell = \"\"\"$('div.cell.code_cell.rendered.selected')\"\"\"\n",
    "    next_cell = this_cell + '.next()'\n",
    "\n",
    "    toggle_text = 'Toggle show/hide'  # text shown on toggle link\n",
    "    target_cell = this_cell  # target cell to control with toggle\n",
    "    js_hide_current = ''  # bit of JS to permanently hide code in current cell (only when toggling next cell)\n",
    "\n",
    "    if for_next:\n",
    "        target_cell = next_cell\n",
    "        toggle_text += ' next cell'\n",
    "        js_hide_current = this_cell + '.find(\"div.input\").hide();'\n",
    "\n",
    "    js_f_name = 'code_toggle_{}'.format(str(random.randint(1,2**64)))\n",
    "\n",
    "    html = \"\"\"\n",
    "        <script>\n",
    "            function {f_name}() {{\n",
    "                {cell_selector}.find('div.input').toggle();\n",
    "            }}\n",
    "\n",
    "            {js_hide_current}\n",
    "        </script>\n",
    "\n",
    "        <a href=\"javascript:{f_name}()\">{toggle_text}</a>\n",
    "    \"\"\".format(\n",
    "        f_name=js_f_name,\n",
    "        cell_selector=target_cell,\n",
    "        js_hide_current=js_hide_current, \n",
    "        toggle_text=toggle_text\n",
    "    )\n",
    "\n",
    "    return HTML(html)"
   ]
  },
  {
   "cell_type": "code",
   "execution_count": 6,
   "metadata": {
    "scrolled": false
   },
   "outputs": [],
   "source": [
    "class factionLocations:\n",
    "    def __init__(self,referenceFaction):\n",
    "        self.faction=referenceFaction  \n",
    "        self.presentSystems=[]\n",
    "        #self.listFactionLocations()\n",
    "    def listFactionLocations(self):\n",
    "        self.factionLocations=[]\n",
    "        EDDBfactions=\"https://elitebgs.app/api/ebgs/v4/factions\"\n",
    "        URL =os.path.join(EDDBfactions)\n",
    "        PARAMS = {\"name\":self.faction} \n",
    "        r = requests.get(url = URL, params = PARAMS) \n",
    "        data = r.json()\n",
    "        for item in data[\"docs\"]:\n",
    "            for system in item[\"faction_presence\"]:\n",
    "                self.factionLocations.append( system[\"system_name\"])\n",
    "        #print(\"The faction %s is located in the following systems:\"%self.faction)\n",
    "        #for item in self.factionLocations:\n",
    "        #    print(item)\n",
    "\n",
    "        return self.factionLocations#, data[\"docs\"]"
   ]
  },
  {
   "cell_type": "code",
   "execution_count": 7,
   "metadata": {
    "scrolled": false
   },
   "outputs": [],
   "source": [
    "class factionInfluence:\n",
    "    def __init__(self,system,graph=0):\n",
    "        #self.faction=referenceFaction\n",
    "        #self.presentSystems=factionLocations(referenceFaction)\n",
    "        self.influences={}\n",
    "        self.influences[\"factions\"]=[]\n",
    "        self.influences[\"inf\"]=[]\n",
    "        self.influences[\"state\"]=[]\n",
    "        self.influences[\"factionState\"]=[]\n",
    "        self.influences[\"controllingState\"]=[]\n",
    "        self.system=system\n",
    "        self.graph=graph\n",
    "        #self.getInf()\n",
    "\n",
    "    def getInf(self):\n",
    "        endpoint=\"https://www.edsm.net/api-system-v1/factions\"\n",
    "        PARAMS = {\"systemName\":self.system} \n",
    "        r = requests.get(url=endpoint, params = PARAMS) \n",
    "        data = r.json()\n",
    "        self.influences[\"controlling\"]=data[\"controllingFaction\"][\"name\"]\n",
    "        \n",
    "        #print(data[\"controllingFaction\"])\n",
    "        for item in data[\"factions\"]:\n",
    "            self.influences[\"factions\"].append(item[\"name\"])\n",
    "            self.influences[\"inf\"].append(item[\"influence\"]*100)\n",
    "            self.influences[\"state\"].append(\"State : \"+item[\"state\"])\n",
    "            self.influences[\"factionState\"].append(item[\"name\"]+\" :: State: \"+item[\"state\"])\n",
    "            if item[\"name\"]==self.influences[\"controlling\"]:\n",
    "                self.influences[\"controllingInfo\"]=data[\"controllingFaction\"][\"name\"] + \" :: \"+ item[\"state\"] + \" :: \"+ data[\"controllingFaction\"][\"allegiance\"] + \" :: \"+ data[\"controllingFaction\"][\"government\"]\n",
    "        \n",
    "        if self.graph:\n",
    "            fig = go.Figure(\n",
    "                data=[go.Bar(x=self.influences[\"factions\"],y=self.influences[\"inf\"],text=self.influences[\"state\"],textposition='auto')],\n",
    "                layout_title_text=\"%s :: Controlled by %s\"%(self.system,self.influences[\"controllingInfo\"])\n",
    "            )\n",
    "            fig.show()\n",
    "        else:\n",
    "            for key,value in self.influences.items():\n",
    "                print(key,value)\n"
   ]
  },
  {
   "cell_type": "code",
   "execution_count": 8,
   "metadata": {
    "scrolled": true
   },
   "outputs": [],
   "source": [
    "class factionCoordinates:\n",
    "    def __init__(self,faction,systems):\n",
    "        self.faction=faction\n",
    "        locations=factionLocations(referenceFaction=self.faction)\n",
    "        self.systems=systems\n",
    "        self.coordinates=[]\n",
    "    def gatherCoordinates(self):\n",
    "        for system in self.systems:\n",
    "            endpoint=\"https://www.edsm.net/api-v1/system\"\n",
    "            PARAMS = {\"systemName\":system,\"showCoordinates\":1} \n",
    "            r = requests.get(url=endpoint, params = PARAMS) \n",
    "            data = r.json()\n",
    "            #print(data)\n",
    "            thisSystem=[]\n",
    "            thisSystem.append(data[\"name\"])\n",
    "            thisSystem.append(data[\"coords\"][\"x\"])\n",
    "            thisSystem.append(data[\"coords\"][\"y\"])\n",
    "            thisSystem.append(data[\"coords\"][\"z\"])\n",
    "            thisSystem.append(data[\"coordsLocked\"])\n",
    "            self.coordinates.append(thisSystem)\n",
    "        df=pd.DataFrame(self.coordinates,columns=['System',\"x\",\"y\",\"z\",\"locked\"])\n",
    "        #print(df)\n",
    "        fig = px.scatter_3d(data_frame=df, x='x', y='z', z='y',color='System')\n",
    "        fig.show()\n",
    "        \n",
    "        return self.coordinates"
   ]
  },
  {
   "cell_type": "code",
   "execution_count": 9,
   "metadata": {},
   "outputs": [],
   "source": [
    "from datetime import datetime\n",
    "date_posted = '2014-01-15T01:35:30.314Z'\n",
    "datetime.strptime(date_posted, '%Y-%m-%dT%H:%M:%S.%fZ')\n",
    "class factionHistory:\n",
    "    def __init__(self,system):\n",
    "        self.system=system\n",
    "        self.history=[]\n",
    "    def getHistory(self):\n",
    "        endpoint=\"https://www.edsm.net/api-system-v1/factions\"\n",
    "        PARAMS = {\"systemName\":self.system,\"showHistory\":1,\"isPlayer\":1} \n",
    "        r = requests.get(url=endpoint, params = PARAMS) \n",
    "        data = r.json()\n",
    "        #print(data)\n",
    "        \n",
    "        for item in data[\"factions\"]:\n",
    "            #print(item[\"influenceHistory\"])\n",
    "            \n",
    "            for tick in item[\"influenceHistory\"].items():\n",
    "                thisData=[]\n",
    "                thisData.append(item[\"name\"].strip())\n",
    "                ts=int(tick[0])\n",
    "                #thisData.append(ts)\n",
    "                thisData.append(datetime.utcfromtimestamp(ts).strftime('%Y-%m-%d'))\n",
    "                thisData.append(float(tick[1])*100)\n",
    "                thisData.append(ts)\n",
    "                self.history.append(thisData)\n",
    "            #print(len(thisData))\n",
    "        #print(len(self.history))\n",
    "        #for item in self.history:\n",
    "            #print(item)\n",
    "        df=pd.DataFrame.from_records(self.history,columns=['faction',\"date\",\"influence\",\"ts\"])\n",
    "        #df.drop(\"Pilots' Federation Local Branch\",axis=1)\n",
    "        #filter=df[\"influence\"] > 0.0\n",
    "        #df=df[filter]\n",
    "        df=df.sort_values(by=[\"ts\"])\n",
    "        df=df.set_index(\"ts\")\n",
    "        \n",
    "        #with pd.option_context('display.max_rows', None, 'display.max_columns', None):  # more options can be specified also\n",
    "        #    print(df)\n",
    "        \n",
    "        fig = px.line(df, x=\"date\", y=\"influence\", color=\"faction\")\n",
    "        fig.show()\n"
   ]
  },
  {
   "cell_type": "code",
   "execution_count": 10,
   "metadata": {
    "scrolled": true
   },
   "outputs": [],
   "source": [
    "def graphFaction(faction):\n",
    "    \n",
    "    ptl=factionLocations(referenceFaction=faction)\n",
    "    systems=ptl.listFactionLocations()\n",
    "    x=factionCoordinates(faction,systems)\n",
    "    x.gatherCoordinates()\n",
    "    \n",
    "    \n",
    "    for system in systems:\n",
    "        plotter=factionInfluence(system=system,graph=1)\n",
    "        plotter.getInf()\n",
    "        history=factionHistory(system)\n",
    "        history.getHistory()"
   ]
  },
  {
   "cell_type": "code",
   "execution_count": null,
   "metadata": {
    "scrolled": false
   },
   "outputs": [],
   "source": [
    "text=widgets.Text(\n",
    "    value='Enter a Faction and Press Enter',\n",
    "    placeholder='Enter Factions Here',\n",
    "    description='Faction:',\n",
    "    disabled=False\n",
    ")\n",
    "display(text)\n",
    "\n",
    "\n",
    "def handle_submit(sender):\n",
    "    faction=text.value\n",
    "    graphFaction(faction)\n",
    "text.on_submit(handle_submit)"
   ]
  }
 ],
 "metadata": {
  "kernelspec": {
   "display_name": "Python 3",
   "language": "python",
   "name": "python3"
  },
  "language_info": {
   "codemirror_mode": {
    "name": "ipython",
    "version": 3
   },
   "file_extension": ".py",
   "mimetype": "text/x-python",
   "name": "python",
   "nbconvert_exporter": "python",
   "pygments_lexer": "ipython3",
   "version": "3.7.3"
  }
 },
 "nbformat": 4,
 "nbformat_minor": 2
}
